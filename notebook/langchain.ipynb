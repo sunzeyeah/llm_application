{
 "cells": [
  {
   "cell_type": "code",
   "execution_count": null,
   "id": "da862ccf",
   "metadata": {},
   "outputs": [],
   "source": [
    "import os\n",
    "from transformers import (\n",
    "    AutoTokenizer,\n",
    "    AutoModelForCausalLM,\n",
    "    pipeline,\n",
    "    AutoModelForSeq2SeqLM\n",
    ")\n",
    "from langchain import (\n",
    "    LLMChain,\n",
    "    PromptTemplate\n",
    ")\n",
    "from langchain.llms import (\n",
    "    OpenAI,\n",
    "    HuggingFacePipeline,\n",
    "    HuggingFaceHub\n",
    ")\n",
    "from langchain.chains import ConversationChain\n",
    "from langchain.agents import (\n",
    "    load_tools,\n",
    "    initialize_agent,\n",
    "    AgentType\n",
    ")"
   ]
  },
  {
   "cell_type": "markdown",
   "id": "f6ce6b79",
   "metadata": {},
   "source": [
    "# Init LLMs"
   ]
  },
  {
   "cell_type": "markdown",
   "id": "0125e41e",
   "metadata": {},
   "source": [
    "### OpenAI API"
   ]
  },
  {
   "cell_type": "code",
   "execution_count": null,
   "id": "a4f084cb",
   "metadata": {},
   "outputs": [],
   "source": [
    "os.environ[\"OPENAI_API_KEY\"] = \"\"\n",
    "llm = OpenAI(temperature=0)"
   ]
  },
  {
   "cell_type": "markdown",
   "id": "b5e2c2af",
   "metadata": {},
   "source": [
    "### Huggingface API"
   ]
  },
  {
   "cell_type": "code",
   "execution_count": null,
   "id": "88bdd900",
   "metadata": {},
   "outputs": [],
   "source": [
    "os.environ['HUGGINGFACEHUB_API_TOKEN'] = ''\n",
    "# model_name = \"google/flan-t5-xxl\"\n",
    "model_name = \"bigscience/bloom-560m\"\n",
    "llm = HuggingFaceHub(\n",
    "    repo_id=model_name,\n",
    "    task=\"text-generation\",\n",
    "    model_kwargs={'temperature':1e-10}\n",
    ")"
   ]
  },
  {
   "cell_type": "markdown",
   "id": "91c19194",
   "metadata": {},
   "source": [
    "### Local Model"
   ]
  },
  {
   "cell_type": "code",
   "execution_count": null,
   "id": "610d8216",
   "metadata": {},
   "outputs": [],
   "source": [
    "# model_name = \"/Users/zeyesun/Documents/Data/models/bloomz-560m\"\n",
    "model_name = \"D:\\\\Data\\\\models\\\\bloomz-560m\"\n",
    "max_length_generation = 512\n",
    "local_rank = 0\n",
    "do_sample = False\n",
    "num_return_sequences = 1\n",
    "top_k = 10\n",
    "top_p = 0.9\n",
    "temperature = 0.9\n",
    "repetition_penalty = 1.0\n",
    "\n",
    "tokenizer = AutoTokenizer.from_pretrained(model_name, trust_remote_code=True)\n",
    "model = AutoModelForCausalLM.from_pretrained(model_name, trust_remote_code=True)\n",
    "pipe = pipeline(\n",
    "    \"text-generation\",\n",
    "    model=model,\n",
    "    tokenizer=tokenizer,\n",
    "    device_map={\"\": local_rank},\n",
    "    max_new_tokens=max_length_generation,\n",
    "#     eos_token_id=tokenizer.bos_token_id,\n",
    "    do_sample=do_sample,\n",
    "    num_return_sequences=num_return_sequences,\n",
    "    top_k=top_k,\n",
    "    top_p=top_p,\n",
    "    temperature=temperature,\n",
    "    repetition_penalty=repetition_penalty\n",
    ")\n",
    "llm = HuggingFacePipeline(pipeline=pipe)"
   ]
  },
  {
   "cell_type": "markdown",
   "id": "cd0aa557",
   "metadata": {},
   "source": [
    "# Applications"
   ]
  },
  {
   "cell_type": "markdown",
   "id": "3efcebdb",
   "metadata": {},
   "source": [
    "### 1. QA"
   ]
  },
  {
   "cell_type": "code",
   "execution_count": null,
   "id": "6a9ad267",
   "metadata": {},
   "outputs": [],
   "source": [
    "template = \"\"\"Question: {question} Answer: \"\"\"\n",
    "# template = \"\"\"[Round 1]\\n\\n问：{question}\\n\\n答：\"\"\""
   ]
  },
  {
   "cell_type": "code",
   "execution_count": null,
   "id": "27a4cff7",
   "metadata": {},
   "outputs": [],
   "source": [
    "prompt = PromptTemplate(template=template, input_variables=['question'])\n",
    "llm_chain = LLMChain(prompt=prompt, llm=llm)"
   ]
  },
  {
   "cell_type": "code",
   "execution_count": null,
   "id": "dcab6d2d",
   "metadata": {},
   "outputs": [],
   "source": [
    "questions = [\n",
    "    \"What is the capital of France?\",\n",
    "    \"What is the capital of England?\",\n",
    "    \"Which NFL team won the Super Bowl in the 2010 season?\",\n",
    "    \"你是谁\"\n",
    "]\n",
    "for question in questions:\n",
    "#     print(llm(prompt.format(question=question)))\n",
    "    print(llm_chain.run(question))"
   ]
  },
  {
   "cell_type": "markdown",
   "id": "afc10d96",
   "metadata": {},
   "source": [
    "### 2. Conversation"
   ]
  },
  {
   "cell_type": "code",
   "execution_count": null,
   "id": "7fe1b7a9",
   "metadata": {},
   "outputs": [],
   "source": [
    "conversation = ConversationChain(llm=llm, verbose=True)\n",
    "conversation.predict(input=\"Hi there!\")\n",
    "conversation.predict(input=\"Can we talk about AI?\")\n",
    "conversation.predict(input=\"I'm interested in Reinforcement Learning.\")"
   ]
  },
  {
   "cell_type": "markdown",
   "id": "8c21ec46",
   "metadata": {},
   "source": [
    "### 3. Wikipedia Search"
   ]
  },
  {
   "cell_type": "code",
   "execution_count": null,
   "id": "aa910cbf",
   "metadata": {},
   "outputs": [],
   "source": [
    "tools = load_tools([\"wikipedia\"], llm=llm)\n",
    "agent = initialize_agent(tools, llm, agent=AgentType.ZERO_SHOT_REACT_DESCRIPTION, verbose=True)\n",
    "agent.run(\"In what year was the film Departed with Leopnardo Dicaprio released?\")"
   ]
  },
  {
   "cell_type": "code",
   "execution_count": null,
   "id": "4519d50a",
   "metadata": {},
   "outputs": [],
   "source": [
    "tools = load_tools([\"wikipedia\", \"llm-math\"], llm=llm)\n",
    "agent = initialize_agent(tools, llm, agent=AgentType.ZERO_SHOT_REACT_DESCRIPTION, verbose=True)\n",
    "agent.run(\"In what year was the film Departed with Leopnardo Dicaprio released? What is this year raised to the 0.43 power?\")"
   ]
  },
  {
   "cell_type": "markdown",
   "id": "6d9b9600",
   "metadata": {},
   "source": [
    "### 4. Google Search"
   ]
  },
  {
   "cell_type": "code",
   "execution_count": null,
   "id": "4c067467",
   "metadata": {},
   "outputs": [],
   "source": [
    "os.environ[\"SERPAPI_API_KEY\"] = ''\n",
    "tool_names = [\"serpapi\"]\n",
    "tools = load_tools(tool_names)\n",
    "agent = initialize_agent(tools, llm, agent=AgentType.ZERO_SHOT_REACT_DESCRIPTION, verbose=True)"
   ]
  },
  {
   "cell_type": "code",
   "execution_count": null,
   "id": "82910456",
   "metadata": {},
   "outputs": [],
   "source": [
    "agent.run(\"What's the date today? What great events have taken place today in history?\")"
   ]
  }
 ],
 "metadata": {
  "kernelspec": {
   "display_name": "Python 3 (ipykernel)",
   "language": "python",
   "name": "python3"
  },
  "language_info": {
   "codemirror_mode": {
    "name": "ipython",
    "version": 3
   },
   "file_extension": ".py",
   "mimetype": "text/x-python",
   "name": "python",
   "nbconvert_exporter": "python",
   "pygments_lexer": "ipython3",
   "version": "3.9.12"
  }
 },
 "nbformat": 4,
 "nbformat_minor": 5
}
